{
 "cells": [
  {
   "cell_type": "code",
   "execution_count": 15,
   "metadata": {},
   "outputs": [
    {
     "data": {
      "text/plain": [
       "'2016,2023,2051,2058,2086,2093,2121,2128,2156,2163,2191,2198,2226,2233,2261,2268,2296,2303,2331,2338,2366,2373,2401,2408,2436,2443,2471,2478,2506,2513,2541,2548,2576,2583,2611,2618,2646,2653,2681,2688,2716,2723,2751,2758,2786,2793,2821,2828,2856,2863,2891,2898,2926,2933,2961,2968,2996,3003,3031,3038,3066,3073,3101,3108,3136,3143,3171,3178'"
      ]
     },
     "execution_count": 15,
     "metadata": {},
     "output_type": "execute_result"
    }
   ],
   "source": [
    "l1 = []\n",
    "s1 = ','\n",
    "for num in range(2000, 3201):\n",
    "    if ((num%7 == 0) & num%5 != 0):\n",
    "        l1.append(str(num))\n",
    "        \n",
    "s1.join(l1)"
   ]
  },
  {
   "cell_type": "code",
   "execution_count": 21,
   "metadata": {},
   "outputs": [
    {
     "name": "stdout",
     "output_type": "stream",
     "text": [
      "First Name: Ankit\n",
      "Last Name: Deshmukh\n"
     ]
    },
    {
     "data": {
      "text/plain": [
       "'tiknA hkumhseD'"
      ]
     },
     "execution_count": 21,
     "metadata": {},
     "output_type": "execute_result"
    }
   ],
   "source": [
    "l1 = []\n",
    "l2 = []\n",
    "l1.append(input(\"First Name: \"))\n",
    "l1.append(input(\"Last Name: \"))\n",
    "\n",
    "\n",
    "for item in l1:\n",
    "    l2.append(item[::-1])\n",
    "\n",
    "\" \".join(l2)"
   ]
  },
  {
   "cell_type": "code",
   "execution_count": 24,
   "metadata": {},
   "outputs": [
    {
     "name": "stdout",
     "output_type": "stream",
     "text": [
      "904.7786842338603\n"
     ]
    }
   ],
   "source": [
    "import numpy as np\n",
    "dia = 12\n",
    "vol = (4/3)*np.pi*(12/2)**3\n",
    "print(vol)"
   ]
  },
  {
   "cell_type": "code",
   "execution_count": 25,
   "metadata": {},
   "outputs": [
    {
     "data": {
      "text/plain": [
       "8"
      ]
     },
     "execution_count": 25,
     "metadata": {},
     "output_type": "execute_result"
    }
   ],
   "source": []
  }
 ],
 "metadata": {
  "kernelspec": {
   "display_name": "Python 3",
   "language": "python",
   "name": "python3"
  },
  "language_info": {
   "codemirror_mode": {
    "name": "ipython",
    "version": 3
   },
   "file_extension": ".py",
   "mimetype": "text/x-python",
   "name": "python",
   "nbconvert_exporter": "python",
   "pygments_lexer": "ipython3",
   "version": "3.7.1"
  }
 },
 "nbformat": 4,
 "nbformat_minor": 2
}
