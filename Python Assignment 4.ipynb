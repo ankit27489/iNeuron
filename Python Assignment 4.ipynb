{
 "cells": [
  {
   "cell_type": "markdown",
   "metadata": {},
   "source": [
    "Write a Python Program(with class concepts) to find the area of the triangle using the below formula.\n",
    "\n",
    "\n",
    "area = (s*(s-a)*(s-b)*(s-c)) ** 0.5\n",
    "\n",
    "\n",
    "Function to take the length of the sides of triangle from user should be defined in the parent class and function to calculate the area should be defined in subclass."
   ]
  },
  {
   "cell_type": "code",
   "execution_count": 17,
   "metadata": {},
   "outputs": [
    {
     "name": "stdout",
     "output_type": "stream",
     "text": [
      "10 20 20 25.0\n",
      "Area of triangle is:  4687.5\n"
     ]
    }
   ],
   "source": [
    "class Parent():\n",
    "    a, b, c, s = 0, 0, 0, 0\n",
    "    def put_sides(self, x, y, z):\n",
    "        self.a = x\n",
    "        self.b = y\n",
    "        self.c = z\n",
    "        self.s = (self.a+self.b+self.c)/2\n",
    "        print(self.a, self.b, self.c, self.s)\n",
    "         \n",
    "class triangle(Parent):\n",
    "    def ar(self):\n",
    "        self.tri_area = (self.s*(self.s-self.a)*(self.s-self.b)*(self.s-self.c))*0.5\n",
    "        print(\"Area of triangle is: \",self.tri_area)\n",
    "\n",
    "obj = triangle()\n",
    "obj.put_sides(10,20,20)\n",
    "obj.ar()\n",
    "        \n",
    "        "
   ]
  },
  {
   "cell_type": "markdown",
   "metadata": {},
   "source": [
    "Write a function filter_long_words() that takes a list of words and an integer n and returns the list of words that are longer than n."
   ]
  },
  {
   "cell_type": "code",
   "execution_count": 20,
   "metadata": {},
   "outputs": [
    {
     "name": "stdout",
     "output_type": "stream",
     "text": [
      "Ankit\n",
      "Deshmukh\n"
     ]
    }
   ],
   "source": [
    "def filter_long_words(low, size):\n",
    "    for item in low:\n",
    "        if len(item) > size:\n",
    "            print(item)\n",
    "\n",
    "list_of_words = ['My', 'name', 'is', 'Ankit', 'Deshmukh']\n",
    "size = 4\n",
    "filter_long_words(list_of_words, size)"
   ]
  },
  {
   "cell_type": "markdown",
   "metadata": {},
   "source": [
    "Write a Python program using function concept that maps list of words into a list of integers representing the lengths of the corresponding words.\n",
    "\n",
    "Hint: If a list [ ab,cde,erty] is passed on to the python function output should come as [2,3,4]\n",
    "    \n",
    "Here 2,3 and 4 are the lengths of the words in the list."
   ]
  },
  {
   "cell_type": "code",
   "execution_count": 22,
   "metadata": {},
   "outputs": [
    {
     "name": "stdout",
     "output_type": "stream",
     "text": [
      "{'This': 4, 'is': 2, 'a': 1, 'good': 4, 'assignment': 10, 'on': 2, 'Python': 6}\n"
     ]
    }
   ],
   "source": [
    "def list_dict(low):\n",
    "    word_len = {}\n",
    "    for item in low:\n",
    "        value = len(item)\n",
    "        word_len[item] = value\n",
    "    print(word_len)\n",
    "    \n",
    "low = \"This is a good assignment on Python\".split(\" \")\n",
    "list_dict(low)"
   ]
  },
  {
   "cell_type": "markdown",
   "metadata": {},
   "source": [
    "Write a Python function which takes a character (i.e. a string of length 1) and returns True if it is a vowel, False otherwise."
   ]
  },
  {
   "cell_type": "code",
   "execution_count": 24,
   "metadata": {},
   "outputs": [
    {
     "name": "stdout",
     "output_type": "stream",
     "text": [
      "Vowel:  a\n",
      "Vowel:  e\n",
      "Vowel:  u\n"
     ]
    }
   ],
   "source": [
    "def check_vowel(letter):\n",
    "    if letter in ['a', 'e', 'i', 'o', 'u']:\n",
    "        return True\n",
    "    else:\n",
    "        return False\n",
    "    \n",
    "\n",
    "for item in ['a', 'g', 'e', 'b', 'y', 't', 'u']:\n",
    "    if check_vowel(item):\n",
    "        print('Vowel: ', item)"
   ]
  }
 ],
 "metadata": {
  "kernelspec": {
   "display_name": "Python 3",
   "language": "python",
   "name": "python3"
  },
  "language_info": {
   "codemirror_mode": {
    "name": "ipython",
    "version": 3
   },
   "file_extension": ".py",
   "mimetype": "text/x-python",
   "name": "python",
   "nbconvert_exporter": "python",
   "pygments_lexer": "ipython3",
   "version": "3.7.1"
  }
 },
 "nbformat": 4,
 "nbformat_minor": 2
}
